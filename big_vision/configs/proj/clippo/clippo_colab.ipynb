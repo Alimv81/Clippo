{
  "cells": [
    {
      "cell_type": "markdown",
      "metadata": {
        "id": "HRDyfbk2klCU"
      },
      "source": [
        "# CLIPPO colab\n",
        "\n",
        "Paper: [Image-and-Language Understanding from Pixels Only](https://arxiv.org/abs/2212.08045)\n",
        "\n",
        "This colab shows how to\n",
        "- load pretrained CLIP with Pixels Only (CLIPPO) models,\n",
        "- use them to compute image and text embeddings,\n",
        "- perform zero-shot image and text classification.\n",
        "\n",
        "Six ViT-B/16 models trained on a mix of [YFCC-100M](https://arxiv.org/abs/1503.01817) and [C4](https://arxiv.org/abs/1910.10683) (some initialized with an [ImageNet21k-pretrained checkpoint](https://github.com/google-research/vision_transformer#vision-transformer)\\) are available. Please refer to the [GitHub readme](https://github.com/google-research/big_vision/blob/main/big_vision/configs/proj/clippo/README.md) for training code and details on the checkpoints.\n",
        "\n",
        "This colab is derived from the [colab](https://colab.research.google.com/github/google-research/vision_transformer/blob/main/lit.ipynb) accompanying the paper [LiT: Zero-Shot Transfer with Locked-Image Text Tuning](https://arxiv.org/abs/2111.07991)."
      ]
    },
    {
      "cell_type": "markdown",
      "metadata": {
        "id": "Vauyt3WMehFx"
      },
      "source": [
        "## Set up the environment"
      ]
    },
    {
      "cell_type": "code",
      "execution_count": 1,
      "metadata": {
        "id": "JHkfIOBXp-2J",
        "colab": {
          "base_uri": "https://localhost:8080/"
        },
        "outputId": "9a628642-77a9-4dda-9229-eaf815a0550c"
      },
      "outputs": [
        {
          "output_type": "stream",
          "name": "stdout",
          "text": [
            "Cloning into 'big_vision'...\n",
            "remote: Enumerating objects: 416, done.\u001b[K\n",
            "remote: Counting objects: 100% (416/416), done.\u001b[K\n",
            "remote: Compressing objects: 100% (335/335), done.\u001b[K\n",
            "remote: Total 416 (delta 78), reused 238 (delta 41), pack-reused 0 (from 0)\u001b[K\n",
            "Receiving objects: 100% (416/416), 4.75 MiB | 3.23 MiB/s, done.\n",
            "Resolving deltas: 100% (78/78), done.\n",
            "Already up to date.\n"
          ]
        }
      ],
      "source": [
        "# Clone the big_vision repository\n",
        "!git clone --branch=main --depth=1 https://github.com/google-research/big_vision\n",
        "!cd big_vision && git pull"
      ]
    },
    {
      "cell_type": "code",
      "source": [
        "# Install the python dependencies\n",
        "!pip install -qr big_vision/big_vision/requirements.txt"
      ],
      "metadata": {
        "colab": {
          "base_uri": "https://localhost:8080/"
        },
        "id": "NWLvz5yvH7La",
        "outputId": "be45020f-66bc-4436-8754-485f2b0f7425"
      },
      "execution_count": 2,
      "outputs": [
        {
          "output_type": "stream",
          "name": "stdout",
          "text": [
            "  Preparing metadata (setup.py) ... \u001b[?25l\u001b[?25hdone\n",
            "  Preparing metadata (setup.py) ... \u001b[?25l\u001b[?25hdone\n",
            "  Preparing metadata (setup.py) ... \u001b[?25l\u001b[?25hdone\n",
            "\u001b[2K   \u001b[90m━━━━━━━━━━━━━━━━━━━━━━━━━━━━━━━━━━━━━━━━\u001b[0m \u001b[32m319.7/319.7 kB\u001b[0m \u001b[31m19.9 MB/s\u001b[0m eta \u001b[36m0:00:00\u001b[0m\n",
            "\u001b[2K   \u001b[90m━━━━━━━━━━━━━━━━━━━━━━━━━━━━━━━━━━━━━━━━\u001b[0m \u001b[32m251.8/251.8 MB\u001b[0m \u001b[31m4.9 MB/s\u001b[0m eta \u001b[36m0:00:00\u001b[0m\n",
            "\u001b[2K   \u001b[90m━━━━━━━━━━━━━━━━━━━━━━━━━━━━━━━━━━━━━━━━\u001b[0m \u001b[32m5.3/5.3 MB\u001b[0m \u001b[31m100.0 MB/s\u001b[0m eta \u001b[36m0:00:00\u001b[0m\n",
            "\u001b[2K   \u001b[90m━━━━━━━━━━━━━━━━━━━━━━━━━━━━━━━━━━━━━━━━\u001b[0m \u001b[32m5.5/5.5 MB\u001b[0m \u001b[31m99.1 MB/s\u001b[0m eta \u001b[36m0:00:00\u001b[0m\n",
            "\u001b[2K   \u001b[90m━━━━━━━━━━━━━━━━━━━━━━━━━━━━━━━━━━━━━━━━\u001b[0m \u001b[32m5.2/5.2 MB\u001b[0m \u001b[31m86.4 MB/s\u001b[0m eta \u001b[36m0:00:00\u001b[0m\n",
            "\u001b[2K   \u001b[90m━━━━━━━━━━━━━━━━━━━━━━━━━━━━━━━━━━━━━━━━\u001b[0m \u001b[32m644.9/644.9 MB\u001b[0m \u001b[31m2.8 MB/s\u001b[0m eta \u001b[36m0:00:00\u001b[0m\n",
            "\u001b[2K   \u001b[90m━━━━━━━━━━━━━━━━━━━━━━━━━━━━━━━━━━━━━━━━\u001b[0m \u001b[32m367.1/367.1 kB\u001b[0m \u001b[31m23.2 MB/s\u001b[0m eta \u001b[36m0:00:00\u001b[0m\n",
            "\u001b[2K   \u001b[90m━━━━━━━━━━━━━━━━━━━━━━━━━━━━━━━━━━━━━━━━\u001b[0m \u001b[32m104.3/104.3 MB\u001b[0m \u001b[31m8.7 MB/s\u001b[0m eta \u001b[36m0:00:00\u001b[0m\n",
            "\u001b[2K   \u001b[90m━━━━━━━━━━━━━━━━━━━━━━━━━━━━━━━━━━━━━━━━\u001b[0m \u001b[32m900.4/900.4 kB\u001b[0m \u001b[31m40.9 MB/s\u001b[0m eta \u001b[36m0:00:00\u001b[0m\n",
            "\u001b[2K   \u001b[90m━━━━━━━━━━━━━━━━━━━━━━━━━━━━━━━━━━━━━━━━\u001b[0m \u001b[32m4.9/4.9 MB\u001b[0m \u001b[31m108.9 MB/s\u001b[0m eta \u001b[36m0:00:00\u001b[0m\n",
            "\u001b[2K   \u001b[90m━━━━━━━━━━━━━━━━━━━━━━━━━━━━━━━━━━━━━━━━\u001b[0m \u001b[32m76.7/76.7 kB\u001b[0m \u001b[31m6.7 MB/s\u001b[0m eta \u001b[36m0:00:00\u001b[0m\n",
            "\u001b[2K   \u001b[90m━━━━━━━━━━━━━━━━━━━━━━━━━━━━━━━━━━━━━━━━\u001b[0m \u001b[32m1.7/1.7 MB\u001b[0m \u001b[31m74.0 MB/s\u001b[0m eta \u001b[36m0:00:00\u001b[0m\n",
            "\u001b[?25h  Building wheel for clu (setup.py) ... \u001b[?25l\u001b[?25hdone\n",
            "  Building wheel for flaxformer (setup.py) ... \u001b[?25l\u001b[?25hdone\n",
            "  Building wheel for panopticapi (setup.py) ... \u001b[?25l\u001b[?25hdone\n",
            "\u001b[31mERROR: pip's dependency resolver does not currently take into account all the packages that are installed. This behaviour is the source of the following dependency conflicts.\n",
            "tensorflow-decision-forests 1.11.0 requires tensorflow==2.18.0, but you have tensorflow 2.19.0 which is incompatible.\u001b[0m\u001b[31m\n",
            "\u001b[0m"
          ]
        }
      ]
    },
    {
      "cell_type": "code",
      "source": [
        "# Download Unifont for text rendering\n",
        "!wget https://unifoundry.com/pub/unifont/unifont-9.0.06/font-builds/unifont-9.0.06.hex.gz https://unifoundry.com/pub/unifont/unifont-9.0.06/font-builds/unifont_upper-9.0.06.hex.gz\n",
        "!gunzip unifont-9.0.06.hex.gz unifont_upper-9.0.06.hex.gz\n",
        "!mv unifont-9.0.06.hex unifont_upper-9.0.06.hex big_vision/big_vision/pp/proj/clippo/"
      ],
      "metadata": {
        "colab": {
          "base_uri": "https://localhost:8080/"
        },
        "id": "VAkDMh3yQF1A",
        "outputId": "398b3648-5bf8-4b66-f20b-7a121575d574"
      },
      "execution_count": 3,
      "outputs": [
        {
          "output_type": "stream",
          "name": "stdout",
          "text": [
            "--2025-08-01 12:49:29--  https://unifoundry.com/pub/unifont/unifont-9.0.06/font-builds/unifont-9.0.06.hex.gz\n",
            "Resolving unifoundry.com (unifoundry.com)... 107.180.4.157\n",
            "Connecting to unifoundry.com (unifoundry.com)|107.180.4.157|:443... connected.\n",
            "HTTP request sent, awaiting response... 200 OK\n",
            "Length: 939547 (918K) [application/x-gzip]\n",
            "Saving to: ‘unifont-9.0.06.hex.gz’\n",
            "\n",
            "unifont-9.0.06.hex. 100%[===================>] 917.53K   721KB/s    in 1.3s    \n",
            "\n",
            "2025-08-01 12:49:31 (721 KB/s) - ‘unifont-9.0.06.hex.gz’ saved [939547/939547]\n",
            "\n",
            "--2025-08-01 12:49:31--  https://unifoundry.com/pub/unifont/unifont-9.0.06/font-builds/unifont_upper-9.0.06.hex.gz\n",
            "Reusing existing connection to unifoundry.com:443.\n",
            "HTTP request sent, awaiting response... 200 OK\n",
            "Length: 112342 (110K) [application/x-gzip]\n",
            "Saving to: ‘unifont_upper-9.0.06.hex.gz’\n",
            "\n",
            "unifont_upper-9.0.0 100%[===================>] 109.71K  --.-KB/s    in 0.001s  \n",
            "\n",
            "2025-08-01 12:49:31 (172 MB/s) - ‘unifont_upper-9.0.06.hex.gz’ saved [112342/112342]\n",
            "\n",
            "FINISHED --2025-08-01 12:49:31--\n",
            "Total wall clock time: 2.4s\n",
            "Downloaded: 2 files, 1.0M in 1.3s (807 KB/s)\n"
          ]
        }
      ]
    },
    {
      "cell_type": "code",
      "source": [
        "%cd big_vision"
      ],
      "metadata": {
        "colab": {
          "base_uri": "https://localhost:8080/"
        },
        "id": "Ri6EirCxRCLW",
        "outputId": "46fc0200-928d-4270-d88f-2ecc4021ed56"
      },
      "execution_count": 4,
      "outputs": [
        {
          "output_type": "stream",
          "name": "stdout",
          "text": [
            "/content/big_vision\n"
          ]
        }
      ]
    },
    {
      "cell_type": "markdown",
      "source": [
        "## Load a checkpoint and initialize the model"
      ],
      "metadata": {
        "id": "TskButpkoWBz"
      }
    },
    {
      "cell_type": "code",
      "execution_count": 5,
      "metadata": {
        "id": "4DS88TsHsli7"
      },
      "outputs": [],
      "source": [
        "import jax\n",
        "import jax.numpy as jnp\n",
        "from matplotlib import pyplot as plt\n",
        "import numpy as np\n",
        "import pandas as pd\n",
        "import tensorflow as tf\n",
        "import tensorflow_datasets as tfds\n",
        "import tqdm\n",
        "import importlib"
      ]
    },
    {
      "cell_type": "code",
      "source": [
        "# Select the checkpoint and download it\n",
        "checkpoint_paths = {\n",
        "    'clippo_b16_yfcc100m': 'gs://big_vision/clippo/clippo_b16_yfcc100m.npz',\n",
        "    'clippo_b16_yfcc100m_i21k_init': 'gs://big_vision/clippo/clippo_b16_yfcc100m_i21k_init.npz',\n",
        "    'clippo_b16_yfcc100m_i21k_init_25c4': 'gs://big_vision/clippo/clippo_b16_yfcc100m_i21k_init_25c4.npz',\n",
        "    'clippo_b16_yfcc100m_i21k_init_50c4': 'gs://big_vision/clippo/clippo_b16_yfcc100m_i21k_init_50c4.npz',\n",
        "    'clippo_b16_yfcc100m_i21k_init_75c4': 'gs://big_vision/clippo/clippo_b16_yfcc100m_i21k_init_75c4.npz',\n",
        "    'clippo_b16_100c4': 'gs://big_vision/clippo/clippo_b16_100c4.npz'\n",
        "}\n",
        "\n",
        "checkpoint = 'clippo_b16_yfcc100m_i21k_init_25c4'\n",
        "checkpoint_path = checkpoint_paths[checkpoint]\n",
        "!gsutil cp $checkpoint_path ."
      ],
      "metadata": {
        "colab": {
          "base_uri": "https://localhost:8080/"
        },
        "id": "y7DA8gxrSe0B",
        "outputId": "81884e2b-a6a3-4474-8149-b4f8ce332bfb"
      },
      "execution_count": 6,
      "outputs": [
        {
          "output_type": "stream",
          "name": "stdout",
          "text": [
            "Copying gs://big_vision/clippo/clippo_b16_yfcc100m_i21k_init_25c4.npz...\n",
            "/ [0 files][    0.0 B/540.4 MiB]                                                \r==> NOTE: You are downloading one or more large file(s), which would\n",
            "run significantly faster if you enabled sliced object downloads. This\n",
            "feature is enabled by default but requires that compiled crcmod be\n",
            "installed (see \"gsutil help crcmod\").\n",
            "\n",
            "/ [1 files][540.4 MiB/540.4 MiB]   12.1 MiB/s                                   \n",
            "Operation completed over 1 objects/540.4 MiB.                                    \n"
          ]
        }
      ]
    },
    {
      "cell_type": "code",
      "source": [
        "from big_vision.configs.proj.clippo import train_clippo\n",
        "from big_vision import utils\n",
        "# from big_vision.utils import checkpoint # Removed the incorrect import\n",
        "\n",
        "# The models are trained for resolution 224\n",
        "RES = 224\n",
        "\n",
        "# Load model module\n",
        "config = train_clippo.get_config()\n",
        "model_module = importlib.import_module(f'big_vision.models.{config.model_name}')\n",
        "model = model_module.Model(**config.model)\n",
        "\n",
        "# Load model parameters\n",
        "# Use big_vision.utils.load_checkpoint_np and pass the checkpoint_path\n",
        "params = utils.load_checkpoint_np(checkpoint_path)['params']"
      ],
      "metadata": {
        "id": "dC2pE8r8GF4g"
      },
      "execution_count": 13,
      "outputs": []
    },
    {
      "cell_type": "code",
      "source": [
        "# Define and load preprocessing functions\n",
        "from big_vision.pp import builder as pp_builder\n",
        "for pp_modules in config.pp_modules:\n",
        "  importlib.import_module(f'big_vision.pp.{pp_modules}')\n",
        "\n",
        "# Unifont renderer\n",
        "def tokenizer(inkey='text', outkey='text'):\n",
        "  return (f'render_unifont('\n",
        "          f'inkey=\"{inkey}\", '\n",
        "          f'outkey=\"{outkey}\", '\n",
        "          f'image_size={RES}, '\n",
        "          f'lower=True, '\n",
        "          f'font_size=16, '\n",
        "          f'text_brightness=0, '\n",
        "          f'background_brightness=127)|'\n",
        "          f'value_range(-1, 1, inkey=\"{outkey}\", outkey=\"{outkey}\")')\n",
        "\n",
        "pp_image_str = f'resize({RES})|value_range(-1,1)'\n",
        "pp_text_str = tokenizer()\n",
        "\n",
        "pp_image_fn = pp_builder.get_preprocess_fn(pp_image_str)\n",
        "pp_text_fn = pp_builder.get_preprocess_fn(pp_text_str)\n",
        "\n",
        "def preprocess_images(images):\n",
        "  return [np.array(pp_image_fn({'image': img})['image']) for img in images]\n",
        "\n",
        "def preprocess_texts(texts):\n",
        "  return [np.array(pp_text_fn({'text': text})['text']) for text in texts]"
      ],
      "metadata": {
        "id": "pSXto6vnMEcB"
      },
      "execution_count": 14,
      "outputs": []
    },
    {
      "cell_type": "markdown",
      "metadata": {
        "id": "fzQg_w-Cn8a2"
      },
      "source": [
        "## Use the model"
      ]
    },
    {
      "cell_type": "markdown",
      "source": [
        "### Compute and compare image/text embeddings"
      ],
      "metadata": {
        "id": "Y4LxH_faqXG8"
      }
    },
    {
      "cell_type": "code",
      "execution_count": null,
      "metadata": {
        "id": "YBd39mOzmjPK",
        "outputId": "54d1cd93-4207-4295-8c16-16f6d708c86d",
        "colab": {
          "base_uri": "https://localhost:8080/",
          "height": 148,
          "referenced_widgets": [
            "bb82fe9eafe44bd8b59dd837f5f6965d",
            "e0ad04a01b094dc398e4e5cfc4d561a3",
            "1ac578e610fa41918f8c91a87470176e",
            "6555e16e5b7842c8b16b87f8b49478da",
            "1ba768a6705e4104a07c732b2c68a73f",
            "513f297e1a854be08f0e2a3d10b67bd2",
            "4c8e9ae22a4841fe9d63fcf9ea2b9760",
            "fa41a65a09724f51956946a427e8397c",
            "c40cc6172fd44d58a9ab1060ee4d2aac",
            "191583de36ee46eeba45f123c796cfa4",
            "db62ca34e3364ec3a3d829da8bb24544",
            "292e2055a36641eeb40498db95de76a5",
            "941dfb1e569e465f82e3f2b3007dabac",
            "64b57d58645f41258ccec5e7d502de07",
            "2e957ecbf5cb4d46ad210f9a2a710d08",
            "8bf67bef93884d04b41a845145ef27ed",
            "c5059b826b664e9dbcd6e2724c5ee5f6",
            "f26a59f9edbe443eacd22c1eb4ad02c2",
            "427cf6048ee341fbb46196b60e44919e",
            "513768e123944f8c8dbb7f6f9c7101cc",
            "9071f1d91d7042b98a6698cada3cec6c",
            "7ae92ef457b240a2ad6eefd107ee9a86",
            "5da86ce91b144a7f9b158bd03b70f58d",
            "5e326976a0f9426eb3d732021090ffa0",
            "15753e261b934092800d80f5cb16294f",
            "b4d33977607d445b92c42e1e093f8efa",
            "e1496ca3c0e541c48a854de0cbc64ab3",
            "b5ad4ccb38674a5eb171910d44b770e6",
            "6c03ee832927487c93f5624f389ad150",
            "174f71433a7543d2aadcc00433e3f830",
            "6477f8a0b72341b2a5291ed204236b0b",
            "b5d03c7960df4359bd4daccdcce06674",
            "e0f3ea23164a4fb5a4cdbc332bcfef83"
          ]
        }
      },
      "outputs": [
        {
          "output_type": "stream",
          "name": "stderr",
          "text": [
            "WARNING:absl:Variant folder /root/tensorflow_datasets/imagenette/full-size-v2/1.0.0 has no dataset_info.json\n"
          ]
        },
        {
          "output_type": "stream",
          "name": "stdout",
          "text": [
            "Downloading and preparing dataset Unknown size (download: Unknown size, generated: Unknown size, total: Unknown size) to /root/tensorflow_datasets/imagenette/full-size-v2/1.0.0...\n"
          ]
        },
        {
          "output_type": "display_data",
          "data": {
            "text/plain": [
              "Dl Completed...: 0 url [00:00, ? url/s]"
            ],
            "application/vnd.jupyter.widget-view+json": {
              "version_major": 2,
              "version_minor": 0,
              "model_id": "bb82fe9eafe44bd8b59dd837f5f6965d"
            }
          },
          "metadata": {}
        },
        {
          "output_type": "display_data",
          "data": {
            "text/plain": [
              "Dl Size...: 0 MiB [00:00, ? MiB/s]"
            ],
            "application/vnd.jupyter.widget-view+json": {
              "version_major": 2,
              "version_minor": 0,
              "model_id": "292e2055a36641eeb40498db95de76a5"
            }
          },
          "metadata": {}
        },
        {
          "output_type": "display_data",
          "data": {
            "text/plain": [
              "Extraction completed...: 0 file [00:00, ? file/s]"
            ],
            "application/vnd.jupyter.widget-view+json": {
              "version_major": 2,
              "version_minor": 0,
              "model_id": "5da86ce91b144a7f9b158bd03b70f58d"
            }
          },
          "metadata": {}
        }
      ],
      "source": [
        "# Load some sample images from tfds\n",
        "# Alternatively you can also load these images from the internet / your Drive\n",
        "ds = tfds.load('imagenette', split='train')\n",
        "image_list = [\n",
        "    example['image'].numpy()\n",
        "    for _, example in zip(range(5), ds)\n",
        "]\n",
        "# Note that this is a list of images with different shapes, not a four\n",
        "# dimensional tensor.\n",
        "[image.shape for image in image_list]"
      ]
    },
    {
      "cell_type": "code",
      "execution_count": null,
      "metadata": {
        "id": "3hjjaxlHnWbb"
      },
      "outputs": [],
      "source": [
        "text_list = [\n",
        "    'itap of a cd player',\n",
        "    'a photo of a truck',\n",
        "    'gas station',\n",
        "    'chainsaw',\n",
        "    'a bad photo of colorful houses',\n",
        "]"
      ]
    },
    {
      "cell_type": "code",
      "source": [
        "images = preprocess_images(image_list)\n",
        "texts = preprocess_texts(text_list)"
      ],
      "metadata": {
        "id": "nH5TkCqOTO10"
      },
      "execution_count": null,
      "outputs": []
    },
    {
      "cell_type": "code",
      "execution_count": null,
      "metadata": {
        "id": "KDJkYZR6nHGh"
      },
      "outputs": [],
      "source": [
        "plt.figure(figsize=(30, 12))\n",
        "plt.subplot(211)\n",
        "plt.imshow(np.hstack(images) * .5 + .5)\n",
        "plt.axis('off');\n",
        "plt.subplot(212)\n",
        "plt.imshow(np.hstack(texts) * .5 + .5)\n",
        "plt.axis('off')"
      ]
    },
    {
      "cell_type": "code",
      "execution_count": null,
      "metadata": {
        "id": "GOe1Miplnf7Z"
      },
      "outputs": [],
      "source": [
        "# Embed both texts and images with a single model call\n",
        "# See \"zero-shot evaluation\" below for how to do this separately\n",
        "zimg, ztxt, out = model.apply({\"params\": params}, jnp.stack(images), jnp.stack(texts))"
      ]
    },
    {
      "cell_type": "code",
      "execution_count": null,
      "metadata": {
        "id": "PtATpe2Bn5I0"
      },
      "outputs": [],
      "source": [
        "# Visualize embedding similarities\n",
        "plt.imshow(ztxt @ zimg.T)\n",
        "plt.xlabel(\"Text\")\n",
        "plt.ylabel(\"Image\")\n",
        "tick_labels = [\"CD Player\", \"Truck\", \"Gas Station\", \"Chainsaw\", \"Colorful houses\"]\n",
        "plt.xticks(ticks=range(5),labels=tick_labels, rotation=45)\n",
        "plt.yticks(ticks=range(5),labels=tick_labels, rotation=0)\n",
        "plt.show()"
      ]
    },
    {
      "cell_type": "code",
      "execution_count": null,
      "metadata": {
        "id": "bs9fr-1kCRQW"
      },
      "outputs": [],
      "source": [
        "probs = np.array(jax.nn.softmax(out['t'] * ztxt @ zimg.T, axis=1))\n",
        "pd.DataFrame(probs, index=text_list).style.background_gradient('Greens', vmin=0, vmax=1).format('{:.2%}')"
      ]
    },
    {
      "cell_type": "markdown",
      "source": [
        "### Compute and compare sentence embeddings\n",
        "\n",
        "Since we co-train some of our models on pairs of neighboring sentences from C4\n",
        "with the same contrastive loss as used for image/alt-text pairs, we expect the\n",
        "embeddings to capture sentence similarities well. Indeed, our GLUE evaluations\n",
        "show that CLIPPO learns good sentenence embeddings.\n",
        "\n",
        "Below we visualize the similarities between pairs of neigboring sentences form\n",
        "different Wikipedia articles. CLIPPO models with C4 in the training mix assign\n",
        "higher similarties to sentences from the same article than from different\n",
        "article."
      ],
      "metadata": {
        "id": "Fs-TpneMq2uX"
      }
    },
    {
      "cell_type": "code",
      "source": [
        "# Selection of sentence pairs from Wikipedia (collected on 3/7/2023)\n",
        "sentence_pairs = [\n",
        "    # https://en.wikipedia.org/wiki/Google_JAX\n",
        "    ['Google JAX is a machine learning framework for transforming numerical functions.',\n",
        "     'It is described as bringing together a modified version of autograd (automatic obtaining of the gradient function through differentiation of a function) and TensorFlow\\'s XLA (Accelerated Linear Algebra).'],\n",
        "    # https://en.wikipedia.org/wiki/Matterhorn\n",
        "    ['The Matterhorn (/ˈmætərhɔːrn/, German: [ˈmatɐˌhɔʁn]; Italian: Cervino, [tʃerˈviːno]; French: Cervin, [sɛʁvɛ̃]; Romansh: Mont(e) Cervin(u)) is a mountain of the Alps, straddling the main watershed and border between Switzerland and Italy.',\n",
        "     'It is a large, near-symmetric pyramidal peak in the extended Monte Rosa area of the Pennine Alps, whose summit is 4,478 metres (14,692 ft) high, making it one of the highest summits in the Alps and Europe.'],\n",
        "    # https://en.wikipedia.org/wiki/Claude_Shannon\n",
        "    ['Claude Elwood Shannon (April 30, 1916 – February 24, 2001) was an American mathematician, electrical engineer, and cryptographer known as a \"father of information theory\".',\n",
        "     'As a 21-year-old master\\'s degree student at the Massachusetts Institute of Technology (MIT), he wrote his thesis demonstrating that electrical applications of Boolean algebra could construct any logical numerical relationship.'],\n",
        "    # https://en.wikipedia.org/wiki/Z%C3%BCrich\n",
        "    ['Zürich (/ˈzjʊərɪk, ˈzʊərɪk/ ZURE-ik, ZOOR-ik, German: [ˈtsyːrɪç] (listen); see below) is the largest city in Switzerland and the capital of the canton of Zürich.',\n",
        "     'It is located in north-central Switzerland, at the northwestern tip of Lake Zürich.'],\n",
        "]\n",
        "\n",
        "# Preprocess sentences\n",
        "sentence_lists = list(zip(*sentence_pairs))\n",
        "first_sentences = preprocess_texts(sentence_lists[0])\n",
        "second_sentences = preprocess_texts(sentence_lists[1])"
      ],
      "metadata": {
        "id": "_dJrKpXu43f4"
      },
      "execution_count": null,
      "outputs": []
    },
    {
      "cell_type": "code",
      "source": [
        "plt.figure(figsize=(30, 12))\n",
        "plt.subplot(211)\n",
        "plt.imshow(np.hstack(first_sentences) * .5 + .5)\n",
        "plt.axis('off');\n",
        "plt.subplot(212)\n",
        "plt.imshow(np.hstack(second_sentences) * .5 + .5)\n",
        "plt.axis('off')"
      ],
      "metadata": {
        "id": "8xKWKxzE7vhs"
      },
      "execution_count": null,
      "outputs": []
    },
    {
      "cell_type": "code",
      "source": [
        "# Compute and compare embeddings\n",
        "ztxt1, ztxt2, out = model.apply({\"params\": params}, jnp.stack(first_sentences), jnp.stack(second_sentences))"
      ],
      "metadata": {
        "id": "QZOuehV8SoSc"
      },
      "execution_count": null,
      "outputs": []
    },
    {
      "cell_type": "code",
      "source": [
        "probs_txt = np.array(jax.nn.softmax(out['t'] * ztxt1 @ ztxt2.T, axis=1))\n",
        "pd.DataFrame(probs_txt).style.background_gradient('Greens', vmin=0, vmax=1).format('{:.2%}')"
      ],
      "metadata": {
        "id": "8VljxbXbTHf1"
      },
      "execution_count": null,
      "outputs": []
    },
    {
      "cell_type": "markdown",
      "metadata": {
        "id": "_w1fANZM0FZY"
      },
      "source": [
        "## `tfds` zero-shot evaluation\n",
        "\n",
        "We provide two zero-shot clasification examples\n",
        "- Image classification on CIFAR-100 (run cells after \"Dataset and preprocessing preparation CIFAR-100\")\n",
        "- Text classification on SST-2 (run cells after \"Dataset and preprocessing preparation SST-2\")\n",
        "\n",
        "After that, run the cells after \"Zero-shot classification\" cells to perform the classification."
      ]
    },
    {
      "cell_type": "markdown",
      "source": [
        "#### Dataset and preprocessing preparation CIFAR-100"
      ],
      "metadata": {
        "id": "QCo1J3x0c2gG"
      }
    },
    {
      "cell_type": "code",
      "execution_count": null,
      "metadata": {
        "id": "Ojt_6bny09Nt"
      },
      "outputs": [],
      "source": [
        "# Load dataset\n",
        "builder = tfds.builder('cifar100')\n",
        "builder.download_and_prepare()\n",
        "ds_test = builder.as_dataset('test')\n",
        "\n",
        "# Use image preprocessing function defined earlier\n",
        "ds_test = ds_test.map(pp_image_fn)\n",
        "\n",
        "# Create array of class names\n",
        "info = builder.info\n",
        "classnames = [\n",
        "    info.features['label'].int2str(id_)\n",
        "    for id_ in range(info.features['label'].num_classes)\n",
        "]\n",
        "classnames[:10]"
      ]
    },
    {
      "cell_type": "code",
      "execution_count": null,
      "metadata": {
        "id": "OTe1MqMICNYO"
      },
      "outputs": [],
      "source": [
        "imgs = next(iter(ds_test.batch(4)))['image']\n",
        "\n",
        "plt.figure(figsize=(15, 4))\n",
        "plt.imshow(np.hstack(imgs) * .5 + .5)\n",
        "plt.axis('off');"
      ]
    },
    {
      "cell_type": "code",
      "source": [
        "#@markdown *Prompt engineering*\\\n",
        "#@markdown The [official CLIP Colab](https://github.com/openai/CLIP/blob/main/notebooks/Prompt_Engineering_for_ImageNet.ipynb)\n",
        "#@markdown lists two sets of prompts: the 80 prompts mentioned in the [CLIP paper](https://arxiv.org/abs/2103.00020)\n",
        "#@markdown as well as a shortlist of 7 prompts. That will be used by default for speed,\n",
        "#@markdown but using 80 prompts boosts performance a bit.\n",
        "use_80_prompts = False #@param {\"type\": \"boolean\"}\n",
        "if use_80_prompts:\n",
        "  PROMPTS = [\n",
        "      'a bad photo of a {}.',\n",
        "      'a photo of many {}.',\n",
        "      'a sculpture of a {}.',\n",
        "      'a photo of the hard to see {}.',\n",
        "      'a low resolution photo of the {}.',\n",
        "      'a rendering of a {}.',\n",
        "      'graffiti of a {}.',\n",
        "      'a bad photo of the {}.',\n",
        "      'a cropped photo of the {}.',\n",
        "      'a tattoo of a {}.',\n",
        "      'the embroidered {}.',\n",
        "      'a photo of a hard to see {}.',\n",
        "      'a bright photo of a {}.',\n",
        "      'a photo of a clean {}.',\n",
        "      'a photo of a dirty {}.',\n",
        "      'a dark photo of the {}.',\n",
        "      'a drawing of a {}.',\n",
        "      'a photo of my {}.',\n",
        "      'the plastic {}.',\n",
        "      'a photo of the cool {}.',\n",
        "      'a close-up photo of a {}.',\n",
        "      'a black and white photo of the {}.',\n",
        "      'a painting of the {}.',\n",
        "      'a painting of a {}.',\n",
        "      'a pixelated photo of the {}.',\n",
        "      'a sculpture of the {}.',\n",
        "      'a bright photo of the {}.',\n",
        "      'a cropped photo of a {}.',\n",
        "      'a plastic {}.',\n",
        "      'a photo of the dirty {}.',\n",
        "      'a jpeg corrupted photo of a {}.',\n",
        "      'a blurry photo of the {}.',\n",
        "      'a photo of the {}.',\n",
        "      'a good photo of the {}.',\n",
        "      'a rendering of the {}.',\n",
        "      'a {} in a video game.',\n",
        "      'a photo of one {}.',\n",
        "      'a doodle of a {}.',\n",
        "      'a close-up photo of the {}.',\n",
        "      'a photo of a {}.',\n",
        "      'the origami {}.',\n",
        "      'the {} in a video game.',\n",
        "      'a sketch of a {}.',\n",
        "      'a doodle of the {}.',\n",
        "      'a origami {}.',\n",
        "      'a low resolution photo of a {}.',\n",
        "      'the toy {}.',\n",
        "      'a rendition of the {}.',\n",
        "      'a photo of the clean {}.',\n",
        "      'a photo of a large {}.',\n",
        "      'a rendition of a {}.',\n",
        "      'a photo of a nice {}.',\n",
        "      'a photo of a weird {}.',\n",
        "      'a blurry photo of a {}.',\n",
        "      'a cartoon {}.',\n",
        "      'art of a {}.',\n",
        "      'a sketch of the {}.',\n",
        "      'a embroidered {}.',\n",
        "      'a pixelated photo of a {}.',\n",
        "      'itap of the {}.',\n",
        "      'a jpeg corrupted photo of the {}.',\n",
        "      'a good photo of a {}.',\n",
        "      'a plushie {}.',\n",
        "      'a photo of the nice {}.',\n",
        "      'a photo of the small {}.',\n",
        "      'a photo of the weird {}.',\n",
        "      'the cartoon {}.',\n",
        "      'art of the {}.',\n",
        "      'a drawing of the {}.',\n",
        "      'a photo of the large {}.',\n",
        "      'a black and white photo of a {}.',\n",
        "      'the plushie {}.',\n",
        "      'a dark photo of a {}.',\n",
        "      'itap of a {}.',\n",
        "      'graffiti of the {}.',\n",
        "      'a toy {}.',\n",
        "      'itap of my {}.',\n",
        "      'a photo of a cool {}.',\n",
        "      'a photo of a small {}.',\n",
        "      'a tattoo of the {}.',\n",
        "  ]\n",
        "else:\n",
        "  PROMPTS = [\n",
        "      'itap of a {}.',\n",
        "      'a bad photo of the {}.',\n",
        "      'a origami {}.',\n",
        "      'a photo of the large {}.',\n",
        "      'a {} in a video game.',\n",
        "      'art of the {}.',\n",
        "      'a photo of the small {}.',\n",
        "      '{}',\n",
        "  ]"
      ],
      "metadata": {
        "cellView": "form",
        "id": "rB9324hHgWvh"
      },
      "execution_count": null,
      "outputs": []
    },
    {
      "cell_type": "code",
      "execution_count": null,
      "metadata": {
        "id": "8BQtRYhd0F94"
      },
      "outputs": [],
      "source": [
        "# Construct prompts for all templates\n",
        "class_prompts = [\n",
        "    prompt.format(classname)\n",
        "    for classname in classnames\n",
        "    for prompt in PROMPTS\n",
        "]\n",
        "len(class_prompts)"
      ]
    },
    {
      "cell_type": "code",
      "execution_count": null,
      "metadata": {
        "id": "Ye2MkSEVBcuF"
      },
      "outputs": [],
      "source": [
        "# Render prompt images for all classes and visualize them\n",
        "text_images = preprocess_texts(class_prompts [:7])\n",
        "\n",
        "plt.figure(figsize=(30, 6))\n",
        "plt.imshow(np.hstack(text_images) * .5 + .5)\n",
        "plt.axis('off');"
      ]
    },
    {
      "cell_type": "markdown",
      "source": [
        "#### Dataset and preprocessing preparation SST-2\n",
        "\n",
        "The goal of SST-2 is sentiment classification (`positive`, `negative`) of movie\n",
        "reviews. To this end we embed the reviews and a few prompts for positive/negative sentiment using CLIPPO and compare the embeddings to perform zero-shot\n",
        "classification."
      ],
      "metadata": {
        "id": "n4vkj4zejNR4"
      }
    },
    {
      "cell_type": "code",
      "execution_count": null,
      "metadata": {
        "id": "7DEsxcvtRsEX"
      },
      "outputs": [],
      "source": [
        "# Load dataset and create array of class names.\n",
        "builder = tfds.builder('glue/sst2')\n",
        "builder.download_and_prepare()\n",
        "# The validation set has 428 negative vs. 444 positive examples,\n",
        "# so a naive classifier would obtain an accuracy of 50.9 %\n",
        "ds_test = builder.as_dataset('validation')\n",
        "\n",
        "# Create pp rendering function for SST-2 and map the data set\n",
        "pp_fn_sst2 = pp_builder.get_preprocess_fn(tokenizer('sentence', 'image'))\n",
        "ds_test = ds_test.map(pp_fn_sst2)\n",
        "\n",
        "info = builder.info\n",
        "classnames = [\n",
        "    info.features['label'].int2str(id_)\n",
        "    for id_ in range(info.features['label'].num_classes)\n",
        "]\n",
        "classnames"
      ]
    },
    {
      "cell_type": "code",
      "source": [
        "sentences = next(iter(ds_test.batch(4)))['sentence']\n",
        "sentences"
      ],
      "metadata": {
        "id": "FXcsut5IkTwX"
      },
      "execution_count": null,
      "outputs": []
    },
    {
      "cell_type": "code",
      "source": [
        "PROMPTS = (\n",
        "    'a {} review',\n",
        "    'a {} movie review',\n",
        "    'a {} sentiment',\n",
        "    'the movie was received {}',\n",
        "    'the reception was {}',\n",
        "    )\n",
        "class_prompts = [p.format(c) for c in classnames for p in PROMPTS]\n",
        "len(class_prompts)"
      ],
      "metadata": {
        "id": "a9-hXwnGSGMN"
      },
      "execution_count": null,
      "outputs": []
    },
    {
      "cell_type": "code",
      "source": [
        "# Render prompt images for all classes and visualize them\n",
        "text_images = preprocess_texts(class_prompts [:5])\n",
        "\n",
        "plt.figure(figsize=(20, 5))\n",
        "plt.imshow(np.hstack(text_images) * .5 + .5)\n",
        "plt.axis('off');"
      ],
      "metadata": {
        "id": "bHPRePTVkn4k"
      },
      "execution_count": null,
      "outputs": []
    },
    {
      "cell_type": "markdown",
      "source": [
        "### Zero-shot classification"
      ],
      "metadata": {
        "id": "5J7DEWgQk3y7"
      }
    },
    {
      "cell_type": "code",
      "execution_count": null,
      "metadata": {
        "id": "iO85T44aEmMs"
      },
      "outputs": [],
      "source": [
        "# JIT-compile image embedding function to speed up the processing\n",
        "@jax.jit\n",
        "def embed_images(params, images):\n",
        "  zimg, _, _ = model.apply({\"params\": params}, image=images)\n",
        "  return zimg"
      ]
    },
    {
      "cell_type": "code",
      "source": [
        "# Compute class embeddings\n",
        "zclass = []\n",
        "for i in range(0, len(class_prompts), 100):\n",
        "  batch = class_prompts[i : i + 100]\n",
        "  batch = np.stack(preprocess_texts(batch))\n",
        "  zbatch = embed_images(params, batch)\n",
        "  zclass.append(zbatch)\n",
        "\n",
        "zclass = np.concatenate(zclass)\n",
        "zclass.shape\n"
      ],
      "metadata": {
        "id": "nM_1-0rj2ksS"
      },
      "execution_count": null,
      "outputs": []
    },
    {
      "cell_type": "code",
      "execution_count": null,
      "metadata": {
        "id": "8Drfz7TACX2P"
      },
      "outputs": [],
      "source": [
        "# Compute all image/sentence embeddings and collect the correct labels\n",
        "zimgs = []\n",
        "labels = []\n",
        "\n",
        "for batch in tqdm.tqdm(ds_test.batch(500)):\n",
        "  labels += list(batch['label'].numpy())\n",
        "  zimg = embed_images(params, batch['image'].numpy())\n",
        "  zimgs.append(np.array(zimg))\n",
        "zimgs = np.concatenate(zimgs)\n",
        "zimgs.shape"
      ]
    },
    {
      "cell_type": "code",
      "execution_count": null,
      "metadata": {
        "id": "uU_8LyMcE7zp"
      },
      "outputs": [],
      "source": [
        "# Compute similarities ...\n",
        "sims = zimgs @ zclass.reshape([len(classnames), len(PROMPTS), -1]).mean(axis=1).T\n",
        "sims.shape"
      ]
    },
    {
      "cell_type": "code",
      "execution_count": null,
      "metadata": {
        "id": "0mKZW4gNFl_6"
      },
      "outputs": [],
      "source": [
        "# ... and use most similar embedding to predict label.\n",
        "(sims.argmax(axis=1) == np.array(labels)).mean()"
      ]
    },
    {
      "cell_type": "code",
      "source": [
        "# CIFAR-100 expected results (7 prompts)\n",
        "#\n",
        "# clippo_b16_yfcc100m: 0.4535\n",
        "# clippo_b16_yfcc100m_i21k_init: 0.5183\n",
        "# clippo_b16_yfcc100m_i21k_init_25c4: 0.5092\n",
        "# clippo_b16_yfcc100m_i21k_init_50c4: 0.4862\n",
        "# clippo_b16_yfcc100m_i21k_init_50c4: 0.4204\n",
        "#\n",
        "# SST-2 expected results\n",
        "#\n",
        "# clippo_b16_yfcc100m_i21k_init_25c4: 0.6754\n",
        "# clippo_b16_yfcc100m_i21k_init_75c4: 0.7006"
      ],
      "metadata": {
        "id": "f-N90sgl6aKN"
      },
      "execution_count": null,
      "outputs": []
    },
    {
      "cell_type": "code",
      "metadata": {
        "id": "1bf5502a"
      },
      "source": [
        "import big_vision.utils\n",
        "print(dir(big_vision.utils))"
      ],
      "execution_count": null,
      "outputs": []
    }
  ],
  "metadata": {
    "accelerator": "GPU",
    "colab": {
      "provenance": [],
      "toc_visible": true
    },
    "kernelspec": {
      "display_name": "Python 3",
      "name": "python3"
    },
    "language_info": {
      "name": "python"
    },
    "widgets": {
      "application/vnd.jupyter.widget-state+json": {
        "bb82fe9eafe44bd8b59dd837f5f6965d": {
          "model_module": "@jupyter-widgets/controls",
          "model_name": "HBoxModel",
          "model_module_version": "1.5.0",
          "state": {
            "_dom_classes": [],
            "_model_module": "@jupyter-widgets/controls",
            "_model_module_version": "1.5.0",
            "_model_name": "HBoxModel",
            "_view_count": null,
            "_view_module": "@jupyter-widgets/controls",
            "_view_module_version": "1.5.0",
            "_view_name": "HBoxView",
            "box_style": "",
            "children": [
              "IPY_MODEL_e0ad04a01b094dc398e4e5cfc4d561a3",
              "IPY_MODEL_1ac578e610fa41918f8c91a87470176e",
              "IPY_MODEL_6555e16e5b7842c8b16b87f8b49478da"
            ],
            "layout": "IPY_MODEL_1ba768a6705e4104a07c732b2c68a73f"
          }
        },
        "e0ad04a01b094dc398e4e5cfc4d561a3": {
          "model_module": "@jupyter-widgets/controls",
          "model_name": "HTMLModel",
          "model_module_version": "1.5.0",
          "state": {
            "_dom_classes": [],
            "_model_module": "@jupyter-widgets/controls",
            "_model_module_version": "1.5.0",
            "_model_name": "HTMLModel",
            "_view_count": null,
            "_view_module": "@jupyter-widgets/controls",
            "_view_module_version": "1.5.0",
            "_view_name": "HTMLView",
            "description": "",
            "description_tooltip": null,
            "layout": "IPY_MODEL_513f297e1a854be08f0e2a3d10b67bd2",
            "placeholder": "​",
            "style": "IPY_MODEL_4c8e9ae22a4841fe9d63fcf9ea2b9760",
            "value": "Dl Completed...:   0%"
          }
        },
        "1ac578e610fa41918f8c91a87470176e": {
          "model_module": "@jupyter-widgets/controls",
          "model_name": "FloatProgressModel",
          "model_module_version": "1.5.0",
          "state": {
            "_dom_classes": [],
            "_model_module": "@jupyter-widgets/controls",
            "_model_module_version": "1.5.0",
            "_model_name": "FloatProgressModel",
            "_view_count": null,
            "_view_module": "@jupyter-widgets/controls",
            "_view_module_version": "1.5.0",
            "_view_name": "ProgressView",
            "bar_style": "info",
            "description": "",
            "description_tooltip": null,
            "layout": "IPY_MODEL_fa41a65a09724f51956946a427e8397c",
            "max": 1,
            "min": 0,
            "orientation": "horizontal",
            "style": "IPY_MODEL_c40cc6172fd44d58a9ab1060ee4d2aac",
            "value": 0
          }
        },
        "6555e16e5b7842c8b16b87f8b49478da": {
          "model_module": "@jupyter-widgets/controls",
          "model_name": "HTMLModel",
          "model_module_version": "1.5.0",
          "state": {
            "_dom_classes": [],
            "_model_module": "@jupyter-widgets/controls",
            "_model_module_version": "1.5.0",
            "_model_name": "HTMLModel",
            "_view_count": null,
            "_view_module": "@jupyter-widgets/controls",
            "_view_module_version": "1.5.0",
            "_view_name": "HTMLView",
            "description": "",
            "description_tooltip": null,
            "layout": "IPY_MODEL_191583de36ee46eeba45f123c796cfa4",
            "placeholder": "​",
            "style": "IPY_MODEL_db62ca34e3364ec3a3d829da8bb24544",
            "value": " 0/1 [02:11&lt;?, ? url/s]"
          }
        },
        "1ba768a6705e4104a07c732b2c68a73f": {
          "model_module": "@jupyter-widgets/base",
          "model_name": "LayoutModel",
          "model_module_version": "1.2.0",
          "state": {
            "_model_module": "@jupyter-widgets/base",
            "_model_module_version": "1.2.0",
            "_model_name": "LayoutModel",
            "_view_count": null,
            "_view_module": "@jupyter-widgets/base",
            "_view_module_version": "1.2.0",
            "_view_name": "LayoutView",
            "align_content": null,
            "align_items": null,
            "align_self": null,
            "border": null,
            "bottom": null,
            "display": null,
            "flex": null,
            "flex_flow": null,
            "grid_area": null,
            "grid_auto_columns": null,
            "grid_auto_flow": null,
            "grid_auto_rows": null,
            "grid_column": null,
            "grid_gap": null,
            "grid_row": null,
            "grid_template_areas": null,
            "grid_template_columns": null,
            "grid_template_rows": null,
            "height": null,
            "justify_content": null,
            "justify_items": null,
            "left": null,
            "margin": null,
            "max_height": null,
            "max_width": null,
            "min_height": null,
            "min_width": null,
            "object_fit": null,
            "object_position": null,
            "order": null,
            "overflow": null,
            "overflow_x": null,
            "overflow_y": null,
            "padding": null,
            "right": null,
            "top": null,
            "visibility": null,
            "width": null
          }
        },
        "513f297e1a854be08f0e2a3d10b67bd2": {
          "model_module": "@jupyter-widgets/base",
          "model_name": "LayoutModel",
          "model_module_version": "1.2.0",
          "state": {
            "_model_module": "@jupyter-widgets/base",
            "_model_module_version": "1.2.0",
            "_model_name": "LayoutModel",
            "_view_count": null,
            "_view_module": "@jupyter-widgets/base",
            "_view_module_version": "1.2.0",
            "_view_name": "LayoutView",
            "align_content": null,
            "align_items": null,
            "align_self": null,
            "border": null,
            "bottom": null,
            "display": null,
            "flex": null,
            "flex_flow": null,
            "grid_area": null,
            "grid_auto_columns": null,
            "grid_auto_flow": null,
            "grid_auto_rows": null,
            "grid_column": null,
            "grid_gap": null,
            "grid_row": null,
            "grid_template_areas": null,
            "grid_template_columns": null,
            "grid_template_rows": null,
            "height": null,
            "justify_content": null,
            "justify_items": null,
            "left": null,
            "margin": null,
            "max_height": null,
            "max_width": null,
            "min_height": null,
            "min_width": null,
            "object_fit": null,
            "object_position": null,
            "order": null,
            "overflow": null,
            "overflow_x": null,
            "overflow_y": null,
            "padding": null,
            "right": null,
            "top": null,
            "visibility": null,
            "width": null
          }
        },
        "4c8e9ae22a4841fe9d63fcf9ea2b9760": {
          "model_module": "@jupyter-widgets/controls",
          "model_name": "DescriptionStyleModel",
          "model_module_version": "1.5.0",
          "state": {
            "_model_module": "@jupyter-widgets/controls",
            "_model_module_version": "1.5.0",
            "_model_name": "DescriptionStyleModel",
            "_view_count": null,
            "_view_module": "@jupyter-widgets/base",
            "_view_module_version": "1.2.0",
            "_view_name": "StyleView",
            "description_width": ""
          }
        },
        "fa41a65a09724f51956946a427e8397c": {
          "model_module": "@jupyter-widgets/base",
          "model_name": "LayoutModel",
          "model_module_version": "1.2.0",
          "state": {
            "_model_module": "@jupyter-widgets/base",
            "_model_module_version": "1.2.0",
            "_model_name": "LayoutModel",
            "_view_count": null,
            "_view_module": "@jupyter-widgets/base",
            "_view_module_version": "1.2.0",
            "_view_name": "LayoutView",
            "align_content": null,
            "align_items": null,
            "align_self": null,
            "border": null,
            "bottom": null,
            "display": null,
            "flex": null,
            "flex_flow": null,
            "grid_area": null,
            "grid_auto_columns": null,
            "grid_auto_flow": null,
            "grid_auto_rows": null,
            "grid_column": null,
            "grid_gap": null,
            "grid_row": null,
            "grid_template_areas": null,
            "grid_template_columns": null,
            "grid_template_rows": null,
            "height": null,
            "justify_content": null,
            "justify_items": null,
            "left": null,
            "margin": null,
            "max_height": null,
            "max_width": null,
            "min_height": null,
            "min_width": null,
            "object_fit": null,
            "object_position": null,
            "order": null,
            "overflow": null,
            "overflow_x": null,
            "overflow_y": null,
            "padding": null,
            "right": null,
            "top": null,
            "visibility": null,
            "width": "20px"
          }
        },
        "c40cc6172fd44d58a9ab1060ee4d2aac": {
          "model_module": "@jupyter-widgets/controls",
          "model_name": "ProgressStyleModel",
          "model_module_version": "1.5.0",
          "state": {
            "_model_module": "@jupyter-widgets/controls",
            "_model_module_version": "1.5.0",
            "_model_name": "ProgressStyleModel",
            "_view_count": null,
            "_view_module": "@jupyter-widgets/base",
            "_view_module_version": "1.2.0",
            "_view_name": "StyleView",
            "bar_color": null,
            "description_width": ""
          }
        },
        "191583de36ee46eeba45f123c796cfa4": {
          "model_module": "@jupyter-widgets/base",
          "model_name": "LayoutModel",
          "model_module_version": "1.2.0",
          "state": {
            "_model_module": "@jupyter-widgets/base",
            "_model_module_version": "1.2.0",
            "_model_name": "LayoutModel",
            "_view_count": null,
            "_view_module": "@jupyter-widgets/base",
            "_view_module_version": "1.2.0",
            "_view_name": "LayoutView",
            "align_content": null,
            "align_items": null,
            "align_self": null,
            "border": null,
            "bottom": null,
            "display": null,
            "flex": null,
            "flex_flow": null,
            "grid_area": null,
            "grid_auto_columns": null,
            "grid_auto_flow": null,
            "grid_auto_rows": null,
            "grid_column": null,
            "grid_gap": null,
            "grid_row": null,
            "grid_template_areas": null,
            "grid_template_columns": null,
            "grid_template_rows": null,
            "height": null,
            "justify_content": null,
            "justify_items": null,
            "left": null,
            "margin": null,
            "max_height": null,
            "max_width": null,
            "min_height": null,
            "min_width": null,
            "object_fit": null,
            "object_position": null,
            "order": null,
            "overflow": null,
            "overflow_x": null,
            "overflow_y": null,
            "padding": null,
            "right": null,
            "top": null,
            "visibility": null,
            "width": null
          }
        },
        "db62ca34e3364ec3a3d829da8bb24544": {
          "model_module": "@jupyter-widgets/controls",
          "model_name": "DescriptionStyleModel",
          "model_module_version": "1.5.0",
          "state": {
            "_model_module": "@jupyter-widgets/controls",
            "_model_module_version": "1.5.0",
            "_model_name": "DescriptionStyleModel",
            "_view_count": null,
            "_view_module": "@jupyter-widgets/base",
            "_view_module_version": "1.2.0",
            "_view_name": "StyleView",
            "description_width": ""
          }
        },
        "292e2055a36641eeb40498db95de76a5": {
          "model_module": "@jupyter-widgets/controls",
          "model_name": "HBoxModel",
          "model_module_version": "1.5.0",
          "state": {
            "_dom_classes": [],
            "_model_module": "@jupyter-widgets/controls",
            "_model_module_version": "1.5.0",
            "_model_name": "HBoxModel",
            "_view_count": null,
            "_view_module": "@jupyter-widgets/controls",
            "_view_module_version": "1.5.0",
            "_view_name": "HBoxView",
            "box_style": "",
            "children": [
              "IPY_MODEL_941dfb1e569e465f82e3f2b3007dabac",
              "IPY_MODEL_64b57d58645f41258ccec5e7d502de07",
              "IPY_MODEL_2e957ecbf5cb4d46ad210f9a2a710d08"
            ],
            "layout": "IPY_MODEL_8bf67bef93884d04b41a845145ef27ed"
          }
        },
        "941dfb1e569e465f82e3f2b3007dabac": {
          "model_module": "@jupyter-widgets/controls",
          "model_name": "HTMLModel",
          "model_module_version": "1.5.0",
          "state": {
            "_dom_classes": [],
            "_model_module": "@jupyter-widgets/controls",
            "_model_module_version": "1.5.0",
            "_model_name": "HTMLModel",
            "_view_count": null,
            "_view_module": "@jupyter-widgets/controls",
            "_view_module_version": "1.5.0",
            "_view_name": "HTMLView",
            "description": "",
            "description_tooltip": null,
            "layout": "IPY_MODEL_c5059b826b664e9dbcd6e2724c5ee5f6",
            "placeholder": "​",
            "style": "IPY_MODEL_f26a59f9edbe443eacd22c1eb4ad02c2",
            "value": "Dl Size...:  75%"
          }
        },
        "64b57d58645f41258ccec5e7d502de07": {
          "model_module": "@jupyter-widgets/controls",
          "model_name": "FloatProgressModel",
          "model_module_version": "1.5.0",
          "state": {
            "_dom_classes": [],
            "_model_module": "@jupyter-widgets/controls",
            "_model_module_version": "1.5.0",
            "_model_name": "FloatProgressModel",
            "_view_count": null,
            "_view_module": "@jupyter-widgets/controls",
            "_view_module_version": "1.5.0",
            "_view_name": "ProgressView",
            "bar_style": "info",
            "description": "",
            "description_tooltip": null,
            "layout": "IPY_MODEL_427cf6048ee341fbb46196b60e44919e",
            "max": 1,
            "min": 0,
            "orientation": "horizontal",
            "style": "IPY_MODEL_513768e123944f8c8dbb7f6f9c7101cc",
            "value": 1
          }
        },
        "2e957ecbf5cb4d46ad210f9a2a710d08": {
          "model_module": "@jupyter-widgets/controls",
          "model_name": "HTMLModel",
          "model_module_version": "1.5.0",
          "state": {
            "_dom_classes": [],
            "_model_module": "@jupyter-widgets/controls",
            "_model_module_version": "1.5.0",
            "_model_name": "HTMLModel",
            "_view_count": null,
            "_view_module": "@jupyter-widgets/controls",
            "_view_module_version": "1.5.0",
            "_view_name": "HTMLView",
            "description": "",
            "description_tooltip": null,
            "layout": "IPY_MODEL_9071f1d91d7042b98a6698cada3cec6c",
            "placeholder": "​",
            "style": "IPY_MODEL_7ae92ef457b240a2ad6eefd107ee9a86",
            "value": " 1115/1485 [02:11&lt;00:41,  8.86 MiB/s]"
          }
        },
        "8bf67bef93884d04b41a845145ef27ed": {
          "model_module": "@jupyter-widgets/base",
          "model_name": "LayoutModel",
          "model_module_version": "1.2.0",
          "state": {
            "_model_module": "@jupyter-widgets/base",
            "_model_module_version": "1.2.0",
            "_model_name": "LayoutModel",
            "_view_count": null,
            "_view_module": "@jupyter-widgets/base",
            "_view_module_version": "1.2.0",
            "_view_name": "LayoutView",
            "align_content": null,
            "align_items": null,
            "align_self": null,
            "border": null,
            "bottom": null,
            "display": null,
            "flex": null,
            "flex_flow": null,
            "grid_area": null,
            "grid_auto_columns": null,
            "grid_auto_flow": null,
            "grid_auto_rows": null,
            "grid_column": null,
            "grid_gap": null,
            "grid_row": null,
            "grid_template_areas": null,
            "grid_template_columns": null,
            "grid_template_rows": null,
            "height": null,
            "justify_content": null,
            "justify_items": null,
            "left": null,
            "margin": null,
            "max_height": null,
            "max_width": null,
            "min_height": null,
            "min_width": null,
            "object_fit": null,
            "object_position": null,
            "order": null,
            "overflow": null,
            "overflow_x": null,
            "overflow_y": null,
            "padding": null,
            "right": null,
            "top": null,
            "visibility": null,
            "width": null
          }
        },
        "c5059b826b664e9dbcd6e2724c5ee5f6": {
          "model_module": "@jupyter-widgets/base",
          "model_name": "LayoutModel",
          "model_module_version": "1.2.0",
          "state": {
            "_model_module": "@jupyter-widgets/base",
            "_model_module_version": "1.2.0",
            "_model_name": "LayoutModel",
            "_view_count": null,
            "_view_module": "@jupyter-widgets/base",
            "_view_module_version": "1.2.0",
            "_view_name": "LayoutView",
            "align_content": null,
            "align_items": null,
            "align_self": null,
            "border": null,
            "bottom": null,
            "display": null,
            "flex": null,
            "flex_flow": null,
            "grid_area": null,
            "grid_auto_columns": null,
            "grid_auto_flow": null,
            "grid_auto_rows": null,
            "grid_column": null,
            "grid_gap": null,
            "grid_row": null,
            "grid_template_areas": null,
            "grid_template_columns": null,
            "grid_template_rows": null,
            "height": null,
            "justify_content": null,
            "justify_items": null,
            "left": null,
            "margin": null,
            "max_height": null,
            "max_width": null,
            "min_height": null,
            "min_width": null,
            "object_fit": null,
            "object_position": null,
            "order": null,
            "overflow": null,
            "overflow_x": null,
            "overflow_y": null,
            "padding": null,
            "right": null,
            "top": null,
            "visibility": null,
            "width": null
          }
        },
        "f26a59f9edbe443eacd22c1eb4ad02c2": {
          "model_module": "@jupyter-widgets/controls",
          "model_name": "DescriptionStyleModel",
          "model_module_version": "1.5.0",
          "state": {
            "_model_module": "@jupyter-widgets/controls",
            "_model_module_version": "1.5.0",
            "_model_name": "DescriptionStyleModel",
            "_view_count": null,
            "_view_module": "@jupyter-widgets/base",
            "_view_module_version": "1.2.0",
            "_view_name": "StyleView",
            "description_width": ""
          }
        },
        "427cf6048ee341fbb46196b60e44919e": {
          "model_module": "@jupyter-widgets/base",
          "model_name": "LayoutModel",
          "model_module_version": "1.2.0",
          "state": {
            "_model_module": "@jupyter-widgets/base",
            "_model_module_version": "1.2.0",
            "_model_name": "LayoutModel",
            "_view_count": null,
            "_view_module": "@jupyter-widgets/base",
            "_view_module_version": "1.2.0",
            "_view_name": "LayoutView",
            "align_content": null,
            "align_items": null,
            "align_self": null,
            "border": null,
            "bottom": null,
            "display": null,
            "flex": null,
            "flex_flow": null,
            "grid_area": null,
            "grid_auto_columns": null,
            "grid_auto_flow": null,
            "grid_auto_rows": null,
            "grid_column": null,
            "grid_gap": null,
            "grid_row": null,
            "grid_template_areas": null,
            "grid_template_columns": null,
            "grid_template_rows": null,
            "height": null,
            "justify_content": null,
            "justify_items": null,
            "left": null,
            "margin": null,
            "max_height": null,
            "max_width": null,
            "min_height": null,
            "min_width": null,
            "object_fit": null,
            "object_position": null,
            "order": null,
            "overflow": null,
            "overflow_x": null,
            "overflow_y": null,
            "padding": null,
            "right": null,
            "top": null,
            "visibility": null,
            "width": "20px"
          }
        },
        "513768e123944f8c8dbb7f6f9c7101cc": {
          "model_module": "@jupyter-widgets/controls",
          "model_name": "ProgressStyleModel",
          "model_module_version": "1.5.0",
          "state": {
            "_model_module": "@jupyter-widgets/controls",
            "_model_module_version": "1.5.0",
            "_model_name": "ProgressStyleModel",
            "_view_count": null,
            "_view_module": "@jupyter-widgets/base",
            "_view_module_version": "1.2.0",
            "_view_name": "StyleView",
            "bar_color": null,
            "description_width": ""
          }
        },
        "9071f1d91d7042b98a6698cada3cec6c": {
          "model_module": "@jupyter-widgets/base",
          "model_name": "LayoutModel",
          "model_module_version": "1.2.0",
          "state": {
            "_model_module": "@jupyter-widgets/base",
            "_model_module_version": "1.2.0",
            "_model_name": "LayoutModel",
            "_view_count": null,
            "_view_module": "@jupyter-widgets/base",
            "_view_module_version": "1.2.0",
            "_view_name": "LayoutView",
            "align_content": null,
            "align_items": null,
            "align_self": null,
            "border": null,
            "bottom": null,
            "display": null,
            "flex": null,
            "flex_flow": null,
            "grid_area": null,
            "grid_auto_columns": null,
            "grid_auto_flow": null,
            "grid_auto_rows": null,
            "grid_column": null,
            "grid_gap": null,
            "grid_row": null,
            "grid_template_areas": null,
            "grid_template_columns": null,
            "grid_template_rows": null,
            "height": null,
            "justify_content": null,
            "justify_items": null,
            "left": null,
            "margin": null,
            "max_height": null,
            "max_width": null,
            "min_height": null,
            "min_width": null,
            "object_fit": null,
            "object_position": null,
            "order": null,
            "overflow": null,
            "overflow_x": null,
            "overflow_y": null,
            "padding": null,
            "right": null,
            "top": null,
            "visibility": null,
            "width": null
          }
        },
        "7ae92ef457b240a2ad6eefd107ee9a86": {
          "model_module": "@jupyter-widgets/controls",
          "model_name": "DescriptionStyleModel",
          "model_module_version": "1.5.0",
          "state": {
            "_model_module": "@jupyter-widgets/controls",
            "_model_module_version": "1.5.0",
            "_model_name": "DescriptionStyleModel",
            "_view_count": null,
            "_view_module": "@jupyter-widgets/base",
            "_view_module_version": "1.2.0",
            "_view_name": "StyleView",
            "description_width": ""
          }
        },
        "5da86ce91b144a7f9b158bd03b70f58d": {
          "model_module": "@jupyter-widgets/controls",
          "model_name": "HBoxModel",
          "model_module_version": "1.5.0",
          "state": {
            "_dom_classes": [],
            "_model_module": "@jupyter-widgets/controls",
            "_model_module_version": "1.5.0",
            "_model_name": "HBoxModel",
            "_view_count": null,
            "_view_module": "@jupyter-widgets/controls",
            "_view_module_version": "1.5.0",
            "_view_name": "HBoxView",
            "box_style": "",
            "children": [
              "IPY_MODEL_5e326976a0f9426eb3d732021090ffa0",
              "IPY_MODEL_15753e261b934092800d80f5cb16294f",
              "IPY_MODEL_b4d33977607d445b92c42e1e093f8efa"
            ],
            "layout": "IPY_MODEL_e1496ca3c0e541c48a854de0cbc64ab3"
          }
        },
        "5e326976a0f9426eb3d732021090ffa0": {
          "model_module": "@jupyter-widgets/controls",
          "model_name": "HTMLModel",
          "model_module_version": "1.5.0",
          "state": {
            "_dom_classes": [],
            "_model_module": "@jupyter-widgets/controls",
            "_model_module_version": "1.5.0",
            "_model_name": "HTMLModel",
            "_view_count": null,
            "_view_module": "@jupyter-widgets/controls",
            "_view_module_version": "1.5.0",
            "_view_name": "HTMLView",
            "description": "",
            "description_tooltip": null,
            "layout": "IPY_MODEL_b5ad4ccb38674a5eb171910d44b770e6",
            "placeholder": "​",
            "style": "IPY_MODEL_6c03ee832927487c93f5624f389ad150",
            "value": "Extraction completed...: "
          }
        },
        "15753e261b934092800d80f5cb16294f": {
          "model_module": "@jupyter-widgets/controls",
          "model_name": "FloatProgressModel",
          "model_module_version": "1.5.0",
          "state": {
            "_dom_classes": [],
            "_model_module": "@jupyter-widgets/controls",
            "_model_module_version": "1.5.0",
            "_model_name": "FloatProgressModel",
            "_view_count": null,
            "_view_module": "@jupyter-widgets/controls",
            "_view_module_version": "1.5.0",
            "_view_name": "ProgressView",
            "bar_style": "info",
            "description": "",
            "description_tooltip": null,
            "layout": "IPY_MODEL_174f71433a7543d2aadcc00433e3f830",
            "max": 1,
            "min": 0,
            "orientation": "horizontal",
            "style": "IPY_MODEL_6477f8a0b72341b2a5291ed204236b0b",
            "value": 0
          }
        },
        "b4d33977607d445b92c42e1e093f8efa": {
          "model_module": "@jupyter-widgets/controls",
          "model_name": "HTMLModel",
          "model_module_version": "1.5.0",
          "state": {
            "_dom_classes": [],
            "_model_module": "@jupyter-widgets/controls",
            "_model_module_version": "1.5.0",
            "_model_name": "HTMLModel",
            "_view_count": null,
            "_view_module": "@jupyter-widgets/controls",
            "_view_module_version": "1.5.0",
            "_view_name": "HTMLView",
            "description": "",
            "description_tooltip": null,
            "layout": "IPY_MODEL_b5d03c7960df4359bd4daccdcce06674",
            "placeholder": "​",
            "style": "IPY_MODEL_e0f3ea23164a4fb5a4cdbc332bcfef83",
            "value": " 0/0 [02:11&lt;?, ? file/s]"
          }
        },
        "e1496ca3c0e541c48a854de0cbc64ab3": {
          "model_module": "@jupyter-widgets/base",
          "model_name": "LayoutModel",
          "model_module_version": "1.2.0",
          "state": {
            "_model_module": "@jupyter-widgets/base",
            "_model_module_version": "1.2.0",
            "_model_name": "LayoutModel",
            "_view_count": null,
            "_view_module": "@jupyter-widgets/base",
            "_view_module_version": "1.2.0",
            "_view_name": "LayoutView",
            "align_content": null,
            "align_items": null,
            "align_self": null,
            "border": null,
            "bottom": null,
            "display": null,
            "flex": null,
            "flex_flow": null,
            "grid_area": null,
            "grid_auto_columns": null,
            "grid_auto_flow": null,
            "grid_auto_rows": null,
            "grid_column": null,
            "grid_gap": null,
            "grid_row": null,
            "grid_template_areas": null,
            "grid_template_columns": null,
            "grid_template_rows": null,
            "height": null,
            "justify_content": null,
            "justify_items": null,
            "left": null,
            "margin": null,
            "max_height": null,
            "max_width": null,
            "min_height": null,
            "min_width": null,
            "object_fit": null,
            "object_position": null,
            "order": null,
            "overflow": null,
            "overflow_x": null,
            "overflow_y": null,
            "padding": null,
            "right": null,
            "top": null,
            "visibility": null,
            "width": null
          }
        },
        "b5ad4ccb38674a5eb171910d44b770e6": {
          "model_module": "@jupyter-widgets/base",
          "model_name": "LayoutModel",
          "model_module_version": "1.2.0",
          "state": {
            "_model_module": "@jupyter-widgets/base",
            "_model_module_version": "1.2.0",
            "_model_name": "LayoutModel",
            "_view_count": null,
            "_view_module": "@jupyter-widgets/base",
            "_view_module_version": "1.2.0",
            "_view_name": "LayoutView",
            "align_content": null,
            "align_items": null,
            "align_self": null,
            "border": null,
            "bottom": null,
            "display": null,
            "flex": null,
            "flex_flow": null,
            "grid_area": null,
            "grid_auto_columns": null,
            "grid_auto_flow": null,
            "grid_auto_rows": null,
            "grid_column": null,
            "grid_gap": null,
            "grid_row": null,
            "grid_template_areas": null,
            "grid_template_columns": null,
            "grid_template_rows": null,
            "height": null,
            "justify_content": null,
            "justify_items": null,
            "left": null,
            "margin": null,
            "max_height": null,
            "max_width": null,
            "min_height": null,
            "min_width": null,
            "object_fit": null,
            "object_position": null,
            "order": null,
            "overflow": null,
            "overflow_x": null,
            "overflow_y": null,
            "padding": null,
            "right": null,
            "top": null,
            "visibility": null,
            "width": null
          }
        },
        "6c03ee832927487c93f5624f389ad150": {
          "model_module": "@jupyter-widgets/controls",
          "model_name": "DescriptionStyleModel",
          "model_module_version": "1.5.0",
          "state": {
            "_model_module": "@jupyter-widgets/controls",
            "_model_module_version": "1.5.0",
            "_model_name": "DescriptionStyleModel",
            "_view_count": null,
            "_view_module": "@jupyter-widgets/base",
            "_view_module_version": "1.2.0",
            "_view_name": "StyleView",
            "description_width": ""
          }
        },
        "174f71433a7543d2aadcc00433e3f830": {
          "model_module": "@jupyter-widgets/base",
          "model_name": "LayoutModel",
          "model_module_version": "1.2.0",
          "state": {
            "_model_module": "@jupyter-widgets/base",
            "_model_module_version": "1.2.0",
            "_model_name": "LayoutModel",
            "_view_count": null,
            "_view_module": "@jupyter-widgets/base",
            "_view_module_version": "1.2.0",
            "_view_name": "LayoutView",
            "align_content": null,
            "align_items": null,
            "align_self": null,
            "border": null,
            "bottom": null,
            "display": null,
            "flex": null,
            "flex_flow": null,
            "grid_area": null,
            "grid_auto_columns": null,
            "grid_auto_flow": null,
            "grid_auto_rows": null,
            "grid_column": null,
            "grid_gap": null,
            "grid_row": null,
            "grid_template_areas": null,
            "grid_template_columns": null,
            "grid_template_rows": null,
            "height": null,
            "justify_content": null,
            "justify_items": null,
            "left": null,
            "margin": null,
            "max_height": null,
            "max_width": null,
            "min_height": null,
            "min_width": null,
            "object_fit": null,
            "object_position": null,
            "order": null,
            "overflow": null,
            "overflow_x": null,
            "overflow_y": null,
            "padding": null,
            "right": null,
            "top": null,
            "visibility": null,
            "width": "20px"
          }
        },
        "6477f8a0b72341b2a5291ed204236b0b": {
          "model_module": "@jupyter-widgets/controls",
          "model_name": "ProgressStyleModel",
          "model_module_version": "1.5.0",
          "state": {
            "_model_module": "@jupyter-widgets/controls",
            "_model_module_version": "1.5.0",
            "_model_name": "ProgressStyleModel",
            "_view_count": null,
            "_view_module": "@jupyter-widgets/base",
            "_view_module_version": "1.2.0",
            "_view_name": "StyleView",
            "bar_color": null,
            "description_width": ""
          }
        },
        "b5d03c7960df4359bd4daccdcce06674": {
          "model_module": "@jupyter-widgets/base",
          "model_name": "LayoutModel",
          "model_module_version": "1.2.0",
          "state": {
            "_model_module": "@jupyter-widgets/base",
            "_model_module_version": "1.2.0",
            "_model_name": "LayoutModel",
            "_view_count": null,
            "_view_module": "@jupyter-widgets/base",
            "_view_module_version": "1.2.0",
            "_view_name": "LayoutView",
            "align_content": null,
            "align_items": null,
            "align_self": null,
            "border": null,
            "bottom": null,
            "display": null,
            "flex": null,
            "flex_flow": null,
            "grid_area": null,
            "grid_auto_columns": null,
            "grid_auto_flow": null,
            "grid_auto_rows": null,
            "grid_column": null,
            "grid_gap": null,
            "grid_row": null,
            "grid_template_areas": null,
            "grid_template_columns": null,
            "grid_template_rows": null,
            "height": null,
            "justify_content": null,
            "justify_items": null,
            "left": null,
            "margin": null,
            "max_height": null,
            "max_width": null,
            "min_height": null,
            "min_width": null,
            "object_fit": null,
            "object_position": null,
            "order": null,
            "overflow": null,
            "overflow_x": null,
            "overflow_y": null,
            "padding": null,
            "right": null,
            "top": null,
            "visibility": null,
            "width": null
          }
        },
        "e0f3ea23164a4fb5a4cdbc332bcfef83": {
          "model_module": "@jupyter-widgets/controls",
          "model_name": "DescriptionStyleModel",
          "model_module_version": "1.5.0",
          "state": {
            "_model_module": "@jupyter-widgets/controls",
            "_model_module_version": "1.5.0",
            "_model_name": "DescriptionStyleModel",
            "_view_count": null,
            "_view_module": "@jupyter-widgets/base",
            "_view_module_version": "1.2.0",
            "_view_name": "StyleView",
            "description_width": ""
          }
        }
      }
    }
  },
  "nbformat": 4,
  "nbformat_minor": 0
}